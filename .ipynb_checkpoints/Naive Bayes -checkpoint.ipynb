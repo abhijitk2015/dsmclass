{
 "cells": [
  {
   "cell_type": "markdown",
   "metadata": {},
   "source": [
    "### Naive Bayes\n",
    "\n",
    "* Simple but powerful algo with a lot of real world applications\n",
    "\n",
    "\n",
    "##### Preliminary Knowledge\n",
    "\n",
    "\n",
    "* **Conditional Probability** - Probability of an event A given other event has occured. e.g. What is the probability that it will rain given it is cloudy?\n",
    "\n",
    "\n",
    "* **Joint Probability** - a measure that calculates the likelihood of 2 or more events at the same time. e.g. given a deck of cards, the prob. that you draw a 6 given that you drew a red card is : P (6 | red) = 2 / 26. (total # of red cards = 26)\n",
    "\n",
    "    **Joint Probability = P (A ⋂ B) = P(A) X P(B)**\n",
    "\n",
    "\n",
    "* **Proportionality** - relationship between 2 quantities that are related with multiplication to a constant.\n",
    "\n",
    "\n",
    "* **Bayes' Theorem** - In probability theory and stats, Bayes' theorem describes probability of an event based on prior knowledge of other conditions that might be related to the event."
   ]
  },
  {
   "cell_type": "markdown",
   "metadata": {},
   "source": [
    "**Bayes' Theorem**\n",
    "\n",
    "* P (A | B) = P (B | A) x P(A) / P(B)\n",
    "\n",
    "* **If we had a target variable (y) and feature variable X**\n",
    "    * P (y | X) = P (X | y) x P(y) / P(X)\n",
    "    \n",
    "* **If we had a target variable (y) and multiple feature variables (X1, X2, X3 ... Xn)**\n",
    "    * P (y | X) = P(X1 | y) x P(X2 | y) x P(X3 | y) x ... x P(Xn | y) * P(y) / P(X1) xP(X2) x ... x P(Xn)"
   ]
  },
  {
   "cell_type": "markdown",
   "metadata": {},
   "source": [
    "## Dataset : Depending on weather condition whether to play golf or not\n",
    "\n",
    "<img src = \"img/naivebayes.png\">"
   ]
  },
  {
   "cell_type": "markdown",
   "metadata": {},
   "source": [
    "#### Step # 1 - Create a frequency table\n",
    "\n",
    "<img src=\"img/freq-table.png\">"
   ]
  },
  {
   "cell_type": "markdown",
   "metadata": {},
   "source": [
    "#### Step # 2 - Create a Ratio Table\n",
    "\n",
    "<img src=\"img/ratio-table.png\">"
   ]
  },
  {
   "cell_type": "markdown",
   "metadata": {},
   "source": [
    "#### X = { outlook : sunny,\n",
    "####          temperature : mild,\n",
    "####          humidity : normal,\n",
    "####          windy : false }"
   ]
  },
  {
   "cell_type": "markdown",
   "metadata": {},
   "source": [
    "### P ( yes | X)\n",
    "\n",
    "##### P (yes) = 9/14\n",
    "##### P (outlook = sunny |  yes) = 2/9\n",
    "##### P (temperature = mild | yes) = 4/9\n",
    "##### P (humidity = normal | yes) = 6/9\n",
    "##### P (windy = false | yes) = 6/9"
   ]
  },
  {
   "cell_type": "markdown",
   "metadata": {},
   "source": [
    "## P (yes | X) "
   ]
  },
  {
   "cell_type": "code",
   "execution_count": 1,
   "metadata": {},
   "outputs": [
    {
     "data": {
      "text/plain": [
       "0.028218694885361564"
      ]
     },
     "execution_count": 1,
     "metadata": {},
     "output_type": "execute_result"
    }
   ],
   "source": [
    "# 9/14 * 2/9 * 4/9 * 6/9 * 6/9\n",
    "\n",
    "9/14 * 2/9 * 4/9 * 6/9 * 6/9"
   ]
  },
  {
   "cell_type": "markdown",
   "metadata": {},
   "source": [
    "#### P (yes | X) = 0.028218694885361564\n",
    "\n",
    "#### P (no | X) = 0.0069\n",
    "\n",
    "#### Since P ( yes | X ) > P ( no | X ), so we predict that the person would be playing golf."
   ]
  },
  {
   "cell_type": "markdown",
   "metadata": {},
   "source": [
    "### Types of Naive Bayes'\n",
    "\n",
    "* Multinomial - Each P ( Xn | y) follows a multinomial distribution. Mainly used for Document classification problems and looks at frequency of words.\n",
    "\n",
    "\n",
    "* Bernoulli - similar to Multinomial except that the target variable is boolean\n",
    "\n",
    "\n",
    "* Gaussian - assumes that continuous values are sampled from a gaussian distribution."
   ]
  },
  {
   "cell_type": "markdown",
   "metadata": {},
   "source": [
    "### Application of Naive Bayes\n",
    "\n",
    "* Real Time Prediction - Very fast\n",
    "\n",
    "\n",
    "* Multiclass prediction \n",
    "\n",
    "\n",
    "* Text Classification\n",
    "\n",
    "\n",
    "* Recommender Systems "
   ]
  },
  {
   "cell_type": "markdown",
   "metadata": {},
   "source": [
    "# Great Job !"
   ]
  }
 ],
 "metadata": {
  "kernelspec": {
   "display_name": "Python 3",
   "language": "python",
   "name": "python3"
  },
  "language_info": {
   "codemirror_mode": {
    "name": "ipython",
    "version": 3
   },
   "file_extension": ".py",
   "mimetype": "text/x-python",
   "name": "python",
   "nbconvert_exporter": "python",
   "pygments_lexer": "ipython3",
   "version": "3.8.3"
  }
 },
 "nbformat": 4,
 "nbformat_minor": 4
}
